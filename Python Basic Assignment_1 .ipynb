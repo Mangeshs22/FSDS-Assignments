{
 "cells": [
  {
   "cell_type": "markdown",
   "id": "495dd0d0",
   "metadata": {},
   "source": [
    "1. In the below elements which of them are values or an expression? eg:- values can be\n",
    " integer or string and expressions will be mathematical operators."
   ]
  },
  {
   "cell_type": "raw",
   "id": "93643489",
   "metadata": {},
   "source": [
    "* - math operator\n",
    "'hello' = string\n",
    "-87.8 = float integer\n",
    "- = Operator\n",
    "/ = Operator\n",
    "+ = operator\n",
    "6 = integer"
   ]
  },
  {
   "cell_type": "markdown",
   "id": "ac989d30",
   "metadata": {},
   "source": [
    "2. What is the difference between string and variable?"
   ]
  },
  {
   "cell_type": "markdown",
   "id": "4bab763c",
   "metadata": {},
   "source": [
    "# Strings:\n",
    "    as Python is concerned, anything you assign to a variable using quotes (single or double) will be considered as a \n",
    "    string. Thus, a string is one of several types of a variable.\n",
    "    \n",
    "a = \"10\" \n",
    "b = \"20\" \n",
    "print(a+b)  \n",
    "#prints 1020 \n",
    "\n",
    "print(type(a+b))\n",
    " \n",
    "a = 10 \n",
    "b = 20 \n",
    "print(a+b)\n",
    "#prints 30 \n",
    "\n",
    "print(type(a+b))\n",
    "\n",
    " So, in the above example, (a+b) returns 1020 in the first case (string concatenation of 10 and 20),\n",
    "whereas in the second case, it returns 30 since it interprets a and b as integers at run-time.You can check \n",
    "the type of a variable x by using the command type(x)\n",
    "\n",
    "# Variables :\n",
    "     When writing a program, you can assign the value to a variable (e.g. my_string = “This is a really long string…”) \n",
    "    so that you can refer to it later in your program just by typing my_string. Variables are also great for being able to \n",
    "    refer values in that change in response to different events in your program.\n",
    "    \n",
    "x = 10\n",
    "\n",
    "x = 20\n",
    "\n",
    "  in the above example, we can say that x is a variable that stores the value 10. In Python, there is no \n",
    "specific command to declare a variable. Therefore, a variable is created when you first assign a value to it in your \n",
    "program. Thus, in the above program, the variable x is created when you assign the value 10 to it, meaning that a memory\n",
    "address is allocated to store the value 10. Later, when you re-assign using x = 20, the value in the corresponding memory \n",
    "address will be changed to 20."
   ]
  },
  {
   "cell_type": "markdown",
   "id": "318519d0",
   "metadata": {},
   "source": [
    "3. Describe three different data types."
   ]
  },
  {
   "cell_type": "markdown",
   "id": "85cfbf50",
   "metadata": {},
   "source": [
    "The standard data types of python are given below :\n",
    "    \n",
    "1.Numbers -\n",
    "        The Number data type is used to stores numeric values.the values can be integer,float.\n",
    "eg. integer,a=100, b=50  \n",
    "    float , a=15.65, b=69.55\n",
    "    \n",
    "2.String -\n",
    "        The string data type is used to stores the sequence of characters.the string can be quoted by single or double \n",
    "quotes.In python various inbuilt operators and functions are available to work with the string data type easily.\n",
    "\n",
    "3.Tuple -\n",
    "    Tuple data type is used to stores a collection of different data types of elements, and it is immutable.\n",
    "    To create a tuple uses the () simple parenthesis"
   ]
  },
  {
   "cell_type": "markdown",
   "id": "2b907e6b",
   "metadata": {},
   "source": [
    "4. What is an expression made up of? What do all expressions do?"
   ]
  },
  {
   "cell_type": "markdown",
   "id": "d3d87a59",
   "metadata": {},
   "source": [
    "An expression is a combination of values,variables, operators and calls the functios.\n",
    "All expressions evaluate down to a single value."
   ]
  },
  {
   "cell_type": "markdown",
   "id": "36a2d3a5",
   "metadata": {},
   "source": [
    "5. This assignment statements, like spam = 10. What is the difference between an expression and a statement?\n"
   ]
  },
  {
   "cell_type": "markdown",
   "id": "c4b05294",
   "metadata": {},
   "source": [
    "A statement is a complete line of code that performs some action, while an expression is any section of the code that evaluates \n",
    "to a value.Expressions can be combined \"horizontally\" into larger expressions using operators,while statements can only be\n",
    "combined \"vertically\" by writing one after another,or with block constructs.Every expression can be used as a statement,but\n",
    "most statements cannot be used as expressions."
   ]
  },
  {
   "cell_type": "markdown",
   "id": "f1ed5016",
   "metadata": {},
   "source": [
    "6. After running the following code, what does the variable bacon contain?\n",
    "bacon = 22\n",
    "bacon + 1\n"
   ]
  },
  {
   "cell_type": "markdown",
   "id": "80c2b2f5",
   "metadata": {},
   "source": [
    "The variable bacon contains 23"
   ]
  },
  {
   "cell_type": "markdown",
   "id": "5503a736",
   "metadata": {},
   "source": [
    "7. What should the values of the following two terms be?\n",
    "'spam' + 'spamspam'\n",
    "'spam' * 3\n"
   ]
  },
  {
   "cell_type": "markdown",
   "id": "ada44d70",
   "metadata": {},
   "source": [
    "Answer = 'spamspamspam'\n"
   ]
  },
  {
   "cell_type": "markdown",
   "id": "88185b28",
   "metadata": {},
   "source": [
    "8. Why is eggs a valid variable name while 100 is invalid?"
   ]
  },
  {
   "cell_type": "markdown",
   "id": "4e8cf6bb",
   "metadata": {},
   "source": [
    "variable name cannot begin with a number. That is why eggs is a valid variable name whereas 100 is invalid.100 is an integer"
   ]
  },
  {
   "cell_type": "markdown",
   "id": "b70f6f85",
   "metadata": {},
   "source": [
    "9. What three functions can be used to get the integer, floating-point number, or string version of a value?"
   ]
  },
  {
   "cell_type": "markdown",
   "id": "6d1f06eb",
   "metadata": {},
   "source": [
    "the int(),float(),str() functions will evaluate to the integer,floating-point number and string versions of the value passed to them respectively."
   ]
  },
  {
   "cell_type": "markdown",
   "id": "9230c884",
   "metadata": {},
   "source": [
    "10. Why does this expression cause an error? How can you fix it?\n",
    "'I have eaten ' + 99 + ' burritos.'\n"
   ]
  },
  {
   "cell_type": "markdown",
   "id": "eba6d122",
   "metadata": {},
   "source": [
    "The expression cause an error because 99 is an integer, and only strings can be concatenated to other strings with the '+' operator.\n",
    "the correct way is 'I have eaten + str(99) + burritos'"
   ]
  }
 ],
 "metadata": {
  "kernelspec": {
   "display_name": "Python 3 (ipykernel)",
   "language": "python",
   "name": "python3"
  },
  "language_info": {
   "codemirror_mode": {
    "name": "ipython",
    "version": 3
   },
   "file_extension": ".py",
   "mimetype": "text/x-python",
   "name": "python",
   "nbconvert_exporter": "python",
   "pygments_lexer": "ipython3",
   "version": "3.9.7"
  }
 },
 "nbformat": 4,
 "nbformat_minor": 5
}
