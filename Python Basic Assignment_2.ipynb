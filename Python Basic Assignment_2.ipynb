{
 "cells": [
  {
   "cell_type": "markdown",
   "id": "a5f1c32a",
   "metadata": {},
   "source": [
    "# Assignment - 2"
   ]
  },
  {
   "cell_type": "markdown",
   "id": "f3c12bac",
   "metadata": {},
   "source": [
    "# 1.What are the two values of the Boolean data type? How do you write them?"
   ]
  },
  {
   "cell_type": "markdown",
   "id": "44348068",
   "metadata": {},
   "source": [
    "Two values of Boolean data type are True and False.Notice that 'T'and 'F' are capital.true and false are not valid \n",
    "booleans and Python will throw an error for them.Internally Python represents True as 1 and False as 0 "
   ]
  },
  {
   "cell_type": "markdown",
   "id": "cc487aa3",
   "metadata": {},
   "source": [
    "# 2. What are the three different types of Boolean operators?"
   ]
  },
  {
   "cell_type": "markdown",
   "id": "18a76710",
   "metadata": {},
   "source": [
    "There are three types of boolean operators: The AND operator (&& or \"and\") , The OR operator (|| or \"or\") ,\n",
    "The NOT operator (not) AND Boolean Operator in Python."
   ]
  },
  {
   "cell_type": "markdown",
   "id": "12a4066f",
   "metadata": {},
   "source": [
    "# 3. Make a list of each Boolean operator's truth tables (i.e. every possible combination of Boolean\n",
    "values for the operator and what it evaluate )."
   ]
  },
  {
   "cell_type": "markdown",
   "id": "c176813b",
   "metadata": {},
   "source": [
    "True and True is True."
   ]
  },
  {
   "cell_type": "markdown",
   "id": "afcfba04",
   "metadata": {},
   "source": [
    "True and False is False."
   ]
  },
  {
   "cell_type": "markdown",
   "id": "e3ba75cd",
   "metadata": {},
   "source": [
    "False and True is False."
   ]
  },
  {
   "cell_type": "markdown",
   "id": "a80e05c0",
   "metadata": {},
   "source": [
    "False and False is False."
   ]
  },
  {
   "cell_type": "markdown",
   "id": "1aa4732d",
   "metadata": {},
   "source": [
    "True or True is True."
   ]
  },
  {
   "cell_type": "markdown",
   "id": "c31e0849",
   "metadata": {},
   "source": [
    "True or False is True."
   ]
  },
  {
   "cell_type": "markdown",
   "id": "a1a12add",
   "metadata": {},
   "source": [
    "False or True is True."
   ]
  },
  {
   "cell_type": "markdown",
   "id": "43e3cadf",
   "metadata": {},
   "source": [
    "False or False is False."
   ]
  },
  {
   "cell_type": "markdown",
   "id": "b167c91f",
   "metadata": {},
   "source": [
    "not True is False."
   ]
  },
  {
   "cell_type": "markdown",
   "id": "d3451954",
   "metadata": {},
   "source": [
    "not False is True."
   ]
  },
  {
   "cell_type": "markdown",
   "id": "0e5a2846",
   "metadata": {},
   "source": [
    "# 4. What are the values of the following expressions?\n"
   ]
  },
  {
   "cell_type": "code",
   "execution_count": 9,
   "id": "c30346d3",
   "metadata": {},
   "outputs": [
    {
     "data": {
      "text/plain": [
       "False"
      ]
     },
     "execution_count": 9,
     "metadata": {},
     "output_type": "execute_result"
    }
   ],
   "source": [
    "(5 > 4) and (3 == 5)"
   ]
  },
  {
   "cell_type": "code",
   "execution_count": 10,
   "id": "0d28eddd",
   "metadata": {},
   "outputs": [
    {
     "data": {
      "text/plain": [
       "False"
      ]
     },
     "execution_count": 10,
     "metadata": {},
     "output_type": "execute_result"
    }
   ],
   "source": [
    "not(5 > 4)"
   ]
  },
  {
   "cell_type": "code",
   "execution_count": 11,
   "id": "a618d649",
   "metadata": {},
   "outputs": [
    {
     "data": {
      "text/plain": [
       "True"
      ]
     },
     "execution_count": 11,
     "metadata": {},
     "output_type": "execute_result"
    }
   ],
   "source": [
    "(5 >4) or (3 == 5)"
   ]
  },
  {
   "cell_type": "code",
   "execution_count": 12,
   "id": "6e6cbc6f",
   "metadata": {},
   "outputs": [
    {
     "data": {
      "text/plain": [
       "False"
      ]
     },
     "execution_count": 12,
     "metadata": {},
     "output_type": "execute_result"
    }
   ],
   "source": [
    "not((5 >4) or (3 == 5))"
   ]
  },
  {
   "cell_type": "code",
   "execution_count": 13,
   "id": "ae3380cc",
   "metadata": {},
   "outputs": [
    {
     "data": {
      "text/plain": [
       "False"
      ]
     },
     "execution_count": 13,
     "metadata": {},
     "output_type": "execute_result"
    }
   ],
   "source": [
    "(True and True) and (True == False)"
   ]
  },
  {
   "cell_type": "code",
   "execution_count": 14,
   "id": "84790c8b",
   "metadata": {},
   "outputs": [
    {
     "data": {
      "text/plain": [
       "True"
      ]
     },
     "execution_count": 14,
     "metadata": {},
     "output_type": "execute_result"
    }
   ],
   "source": [
    "(not False) or (not True)"
   ]
  },
  {
   "cell_type": "markdown",
   "id": "fe35c9a4",
   "metadata": {},
   "source": [
    "# 5. What are the six comparison operators?"
   ]
  },
  {
   "cell_type": "markdown",
   "id": "2baf4a62",
   "metadata": {},
   "source": [
    "1)==, 2) !=, 3)<, 4)>, 5)<=, and 6)>=."
   ]
  },
  {
   "cell_type": "markdown",
   "id": "1e32dd57",
   "metadata": {},
   "source": [
    "# 6. How do you tell the difference between the equal to and assignment operators?Describe a condition and when you would use one."
   ]
  },
  {
   "cell_type": "markdown",
   "id": "e9d0fd01",
   "metadata": {},
   "source": [
    "== is the equal to operator that compares two values and evaluates to a Boolean, while = is the assignment operator that stores a value in a variable.\n",
    "\n",
    "For example:-\n",
    "\n",
    "x=10 y=20 z=20\n",
    "\n",
    "(x==y) is False because we assigned different values to x and y.\n",
    "\n",
    "(y==z) is True because we assign equal values to y and z.\n",
    "\n",
    "A condition is an expression used in a flow control statement that evaluates to a Boolean value."
   ]
  },
  {
   "cell_type": "markdown",
   "id": "28d6197a",
   "metadata": {},
   "source": [
    "# 7. Identify the three blocks in this code:"
   ]
  },
  {
   "cell_type": "markdown",
   "id": "b602cc7d",
   "metadata": {},
   "source": [
    "spam = 0\n",
    "if spam == 10:\n",
    "print('eggs')\n",
    "if spam > 5:\n",
    "print('bacon')\n",
    "else:\n",
    "print('ham')\n",
    "print('spam')\n",
    "print('spam')\n",
    "\n",
    "The three blocks are everything inside the if statement and the lines print('bacon') and print('ham').\n",
    "\n",
    "print('eggs') if spam > 5: print('bacon') else: print('ham') print('spam')"
   ]
  },
  {
   "cell_type": "markdown",
   "id": "259468d9",
   "metadata": {},
   "source": [
    "# 8. Write code that prints Hello if 1 is stored in spam, prints Howdy if 2 is stored in spam, and prints Greetings! if anything else is stored in spam."
   ]
  },
  {
   "cell_type": "markdown",
   "id": "420bb7eb",
   "metadata": {},
   "source": [
    "the code:\n",
    "\n",
    "if spam ==1:\n",
    "    print('Hello')\n",
    "elif spam == 2:\n",
    "    print('Howdy')\n",
    "else:\n",
    "    print('Greetings!')"
   ]
  },
  {
   "cell_type": "markdown",
   "id": "3f76fa35",
   "metadata": {},
   "source": [
    "# 9.If your programme is stuck in an endless loop, what keys you’ll press?"
   ]
  },
  {
   "cell_type": "markdown",
   "id": "5ee4c35f",
   "metadata": {},
   "source": [
    "Press CTRL+C to stop a program stuck in an infinite/endless loop."
   ]
  },
  {
   "cell_type": "markdown",
   "id": "260e7cfc",
   "metadata": {},
   "source": [
    "# 10. How can you tell the difference between break and continue?"
   ]
  },
  {
   "cell_type": "markdown",
   "id": "227a3aa7",
   "metadata": {},
   "source": [
    "a)The break statement will move the execution outside and just after a loop. The continue statement will move the execution to the start of the loop.\n",
    "\n",
    "b)whenever break statement executed then else block will not be executed whereas In continue ,all the time else block is executed."
   ]
  },
  {
   "cell_type": "markdown",
   "id": "11d29d4b",
   "metadata": {},
   "source": [
    "# 11. In a for loop, what is the difference between range(10), range(0, 10), and range(0, 10, 1)?"
   ]
  },
  {
   "cell_type": "markdown",
   "id": "981c435d",
   "metadata": {},
   "source": [
    "They all do the same thing.The range(10) call ranges from 0 upto 10(but not including 10),range(0,10)explicitly tells the \n",
    "loop to start at 0, and range(0,10,1)explicitly tells the loop to increase the variable by 1 on each iteration."
   ]
  },
  {
   "cell_type": "markdown",
   "id": "4d25f351",
   "metadata": {},
   "source": [
    "# 12. Write a short program that prints the numbers 1 to 10 using a for loop. Then write an equivalent program that prints the numbers 1 to 10 using a while loop."
   ]
  },
  {
   "cell_type": "code",
   "execution_count": 12,
   "id": "28d7caf5",
   "metadata": {},
   "outputs": [
    {
     "name": "stdout",
     "output_type": "stream",
     "text": [
      "1\n",
      "2\n",
      "3\n",
      "4\n",
      "5\n",
      "6\n",
      "7\n",
      "8\n",
      "9\n",
      "10\n"
     ]
    }
   ],
   "source": [
    "for i in range(1,11):\n",
    "    print(i)"
   ]
  },
  {
   "cell_type": "code",
   "execution_count": 13,
   "id": "9fe77599",
   "metadata": {},
   "outputs": [
    {
     "name": "stdout",
     "output_type": "stream",
     "text": [
      "1\n",
      "2\n",
      "3\n",
      "4\n",
      "5\n",
      "6\n",
      "7\n",
      "8\n",
      "9\n",
      "10\n"
     ]
    }
   ],
   "source": [
    "i = 1\n",
    "while i <= 10:\n",
    "    print(i)\n",
    "    i=i+1"
   ]
  },
  {
   "cell_type": "markdown",
   "id": "aa684d48",
   "metadata": {},
   "source": [
    "# 13. If you had a function named bacon() inside a module named spam, how would you call it after importing spam?"
   ]
  },
  {
   "cell_type": "markdown",
   "id": "9151dbd1",
   "metadata": {},
   "source": [
    "This function can be called with spam.bacon()."
   ]
  },
  {
   "cell_type": "code",
   "execution_count": null,
   "id": "d6398c9b",
   "metadata": {},
   "outputs": [],
   "source": []
  }
 ],
 "metadata": {
  "kernelspec": {
   "display_name": "Python 3 (ipykernel)",
   "language": "python",
   "name": "python3"
  },
  "language_info": {
   "codemirror_mode": {
    "name": "ipython",
    "version": 3
   },
   "file_extension": ".py",
   "mimetype": "text/x-python",
   "name": "python",
   "nbconvert_exporter": "python",
   "pygments_lexer": "ipython3",
   "version": "3.9.7"
  }
 },
 "nbformat": 4,
 "nbformat_minor": 5
}
